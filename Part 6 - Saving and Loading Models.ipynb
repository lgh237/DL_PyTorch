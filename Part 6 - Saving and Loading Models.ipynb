{
 "cells": [
  {
   "cell_type": "markdown",
   "metadata": {},
   "source": [
    "# Saving and Loading Models\n",
    "\n",
    "In this notebook, I'll show you how to save and load models with PyTorch. This is important because you'll often want to load previously trained models to use in making predictions or to continue training on new data."
   ]
  },
  {
   "cell_type": "code",
   "execution_count": 1,
   "metadata": {
    "pycharm": {
     "is_executing": false
    }
   },
   "outputs": [],
   "source": [
    "%matplotlib inline\n",
    "%config InlineBackend.figure_format = 'retina'\n",
    "\n",
    "import matplotlib.pyplot as plt\n",
    "\n",
    "import torch\n",
    "from torch import nn\n",
    "from torch import optim\n",
    "import torch.nn.functional as F\n",
    "from torchvision import datasets, transforms\n",
    "\n",
    "import helper\n",
    "import fc_model"
   ]
  },
  {
   "cell_type": "code",
   "execution_count": 2,
   "metadata": {
    "pycharm": {
     "is_executing": false
    }
   },
   "outputs": [],
   "source": [
    "# Define a transform to normalize the data\n",
    "transform = transforms.Compose([transforms.ToTensor(),\n",
    "                                transforms.Normalize((0.5, 0.5, 0.5), (0.5, 0.5, 0.5))])\n",
    "# Download and load the training data\n",
    "trainset = datasets.FashionMNIST('F_MNIST_data/', download=True, train=True, transform=transform)\n",
    "trainloader = torch.utils.data.DataLoader(trainset, batch_size=64, shuffle=True)\n",
    "\n",
    "# Download and load the test data\n",
    "testset = datasets.FashionMNIST('F_MNIST_data/', download=True, train=False, transform=transform)\n",
    "testloader = torch.utils.data.DataLoader(testset, batch_size=64, shuffle=True)"
   ]
  },
  {
   "cell_type": "markdown",
   "metadata": {},
   "source": [
    "Here we can see one of the images."
   ]
  },
  {
   "cell_type": "code",
   "execution_count": 3,
   "metadata": {
    "pycharm": {
     "is_executing": false
    }
   },
   "outputs": [
    {
     "data": {
      "text/plain": "<Figure size 432x288 with 1 Axes>",
      "image/png": "[encoded data removed]"
     },
     "metadata": {
      "image/png": {
       "width": 231,
       "height": 231
      },
      "needs_background": "light"
     },
     "output_type": "display_data"
    }
   ],
   "source": [
    "image, label = next(iter(trainloader))\n",
    "helper.imshow(image[0,:]);"
   ]
  },
  {
   "cell_type": "markdown",
   "metadata": {},
   "source": [
    "# Train a network\n",
    "\n",
    "To make things more concise here, I moved the model architecture and training code from the last part to a file called `fc_model`. Importing this, we can easily create a fully-connected network with `fc_model.Network`, and train the network using `fc_model.train`. I'll use this model (once it's trained) to demonstrate how we can save and load models."
   ]
  },
  {
   "cell_type": "code",
   "execution_count": 4,
   "metadata": {
    "pycharm": {
     "is_executing": false
    }
   },
   "outputs": [],
   "source": [
    "# Create the network, define the criterion and optimizer\n",
    "model = fc_model.Network(784, 10, [512, 256, 128])\n",
    "criterion = nn.NLLLoss()\n",
    "optimizer = optim.Adam(model.parameters(), lr=0.001)"
   ]
  },
  {
   "cell_type": "code",
   "execution_count": 5,
   "metadata": {
    "pycharm": {
     "is_executing": false
    }
   },
   "outputs": [
    {
     "name": "stdout",
     "text": [
      "Epoch: 1/2..  Training Loss: 1.727..  Test Loss: 0.968..  Test Accuracy: 0.648\n",
      "Epoch: 1/2..  Training Loss: 1.017..  Test Loss: 0.725..  Test Accuracy: 0.711\n",
      "Epoch: 1/2..  Training Loss: 0.859..  Test Loss: 0.670..  Test Accuracy: 0.738\n",
      "Epoch: 1/2..  Training Loss: 0.776..  Test Loss: 0.632..  Test Accuracy: 0.758\n",
      "Epoch: 1/2..  Training Loss: 0.722..  Test Loss: 0.613..  Test Accuracy: 0.768\n",
      "Epoch: 1/2..  Training Loss: 0.737..  Test Loss: 0.590..  Test Accuracy: 0.782\n",
      "Epoch: 1/2..  Training Loss: 0.704..  Test Loss: 0.594..  Test Accuracy: 0.767\n",
      "Epoch: 1/2..  Training Loss: 0.686..  Test Loss: 0.610..  Test Accuracy: 0.769\n",
      "Epoch: 1/2..  Training Loss: 0.660..  Test Loss: 0.577..  Test Accuracy: 0.774\n",
      "Epoch: 1/2..  Training Loss: 0.654..  Test Loss: 0.530..  Test Accuracy: 0.800\n",
      "Epoch: 1/2..  Training Loss: 0.644..  Test Loss: 0.578..  Test Accuracy: 0.796\n",
      "Epoch: 1/2..  Training Loss: 0.670..  Test Loss: 0.531..  Test Accuracy: 0.805\n",
      "Epoch: 1/2..  Training Loss: 0.624..  Test Loss: 0.541..  Test Accuracy: 0.804\n",
      "Epoch: 1/2..  Training Loss: 0.631..  Test Loss: 0.530..  Test Accuracy: 0.797\n",
      "Epoch: 1/2..  Training Loss: 0.623..  Test Loss: 0.512..  Test Accuracy: 0.818\n",
      "Epoch: 1/2..  Training Loss: 0.615..  Test Loss: 0.522..  Test Accuracy: 0.809\n",
      "Epoch: 1/2..  Training Loss: 0.605..  Test Loss: 0.512..  Test Accuracy: 0.810\n",
      "Epoch: 1/2..  Training Loss: 0.579..  Test Loss: 0.491..  Test Accuracy: 0.818\n",
      "Epoch: 1/2..  Training Loss: 0.558..  Test Loss: 0.507..  Test Accuracy: 0.810\n",
      "Epoch: 1/2..  Training Loss: 0.551..  Test Loss: 0.485..  Test Accuracy: 0.821\n",
      "Epoch: 1/2..  Training Loss: 0.581..  Test Loss: 0.493..  Test Accuracy: 0.814\n",
      "Epoch: 1/2..  Training Loss: 0.614..  Test Loss: 0.490..  Test Accuracy: 0.822\n",
      "Epoch: 1/2..  Training Loss: 0.589..  Test Loss: 0.514..  Test Accuracy: 0.803\n",
      "Epoch: 2/2..  Training Loss: 0.558..  Test Loss: 0.504..  Test Accuracy: 0.817\n",
      "Epoch: 2/2..  Training Loss: 0.544..  Test Loss: 0.483..  Test Accuracy: 0.817\n",
      "Epoch: 2/2..  Training Loss: 0.530..  Test Loss: 0.460..  Test Accuracy: 0.834\n",
      "Epoch: 2/2..  Training Loss: 0.554..  Test Loss: 0.467..  Test Accuracy: 0.829\n",
      "Epoch: 2/2..  Training Loss: 0.520..  Test Loss: 0.468..  Test Accuracy: 0.827\n",
      "Epoch: 2/2..  Training Loss: 0.553..  Test Loss: 0.471..  Test Accuracy: 0.830\n",
      "Epoch: 2/2..  Training Loss: 0.593..  Test Loss: 0.487..  Test Accuracy: 0.823\n",
      "Epoch: 2/2..  Training Loss: 0.532..  Test Loss: 0.473..  Test Accuracy: 0.826\n",
      "Epoch: 2/2..  Training Loss: 0.524..  Test Loss: 0.467..  Test Accuracy: 0.833\n",
      "Epoch: 2/2..  Training Loss: 0.515..  Test Loss: 0.466..  Test Accuracy: 0.826\n",
      "Epoch: 2/2..  Training Loss: 0.531..  Test Loss: 0.476..  Test Accuracy: 0.833\n",
      "Epoch: 2/2..  Training Loss: 0.514..  Test Loss: 0.464..  Test Accuracy: 0.831\n",
      "Epoch: 2/2..  Training Loss: 0.536..  Test Loss: 0.473..  Test Accuracy: 0.823\n",
      "Epoch: 2/2..  Training Loss: 0.538..  Test Loss: 0.469..  Test Accuracy: 0.827\n",
      "Epoch: 2/2..  Training Loss: 0.520..  Test Loss: 0.464..  Test Accuracy: 0.834\n",
      "Epoch: 2/2..  Training Loss: 0.507..  Test Loss: 0.448..  Test Accuracy: 0.837\n",
      "Epoch: 2/2..  Training Loss: 0.565..  Test Loss: 0.452..  Test Accuracy: 0.837\n",
      "Epoch: 2/2..  Training Loss: 0.518..  Test Loss: 0.452..  Test Accuracy: 0.830\n",
      "Epoch: 2/2..  Training Loss: 0.506..  Test Loss: 0.441..  Test Accuracy: 0.838\n",
      "Epoch: 2/2..  Training Loss: 0.488..  Test Loss: 0.443..  Test Accuracy: 0.840\n",
      "Epoch: 2/2..  Training Loss: 0.512..  Test Loss: 0.443..  Test Accuracy: 0.838\n",
      "Epoch: 2/2..  Training Loss: 0.518..  Test Loss: 0.446..  Test Accuracy: 0.835\n",
      "Epoch: 2/2..  Training Loss: 0.535..  Test Loss: 0.457..  Test Accuracy: 0.833\n"
     ],
     "output_type": "stream"
    }
   ],
   "source": [
    "fc_model.train(model, trainloader, testloader, criterion, optimizer, epochs=2)"
   ]
  },
  {
   "cell_type": "markdown",
   "metadata": {},
   "source": [
    "## Saving and loading networks\n",
    "\n",
    "As you can imagine, it's impractical to train a network every time you need to use it. Instead, we can save trained networks then load them later to train more or use them for predictions.\n",
    "\n",
    "The parameters for PyTorch networks are stored in a model's `state_dict`. We can see the state dict contains the weight and bias matrices for each of our layers."
   ]
  },
  {
   "cell_type": "code",
   "execution_count": 10,
   "metadata": {
    "pycharm": {
     "is_executing": false
    }
   },
   "outputs": [
    {
     "name": "stdout",
     "text": [
      "Our model: \n\n Network(\n  (hidden_layers): ModuleList(\n    (0): Linear(in_features=784, out_features=512, bias=True)\n    (1): Linear(in_features=512, out_features=256, bias=True)\n    (2): Linear(in_features=256, out_features=128, bias=True)\n  )\n  (output): Linear(in_features=128, out_features=10, bias=True)\n  (dropout): Dropout(p=0.5, inplace=False)\n) \n\nThe state dict keys: \n\n odict_keys(['hidden_layers.0.weight', 'hidden_layers.0.bias', 'hidden_layers.1.weight', 'hidden_layers.1.bias', 'hidden_layers.2.weight', 'hidden_layers.2.bias', 'output.weight', 'output.bias'])\nOrderedDict([('hidden_layers.0.weight', tensor([[-0.0117, -0.0090,  0.0482,  ...,  0.0186, -0.0097,  0.0426],\n        [ 0.0500,  0.0418,  0.0469,  ...,  0.0139,  0.0397,  0.0398],\n        [ 0.0606,  0.0432,  0.0549,  ...,  0.0565,  0.0203,  0.0754],\n        ...,\n        [ 0.0680,  0.0390,  0.0728,  ...,  0.0692,  0.0289,  0.0102],\n        [-0.0095,  0.0090, -0.0133,  ..., -0.0052,  0.0135, -0.0178],\n        [-0.0117,  0.0349,  0.0032,  ...,  0.0220, -0.0064, -0.0049]])), ('hidden_layers.0.bias', tensor([-0.0332, -0.0032, -0.0656,  0.0157, -0.0199, -0.0196,  0.0179, -0.0141,\n        -0.0350,  0.0092,  0.0198, -0.0405, -0.0168, -0.0342, -0.0385,  0.0114,\n        -0.0124, -0.0126, -0.0013, -0.0546, -0.0112, -0.0509, -0.0456, -0.0599,\n        -0.0076, -0.0373, -0.0395, -0.0121, -0.0443, -0.0335, -0.0204, -0.0354,\n         0.0083, -0.0139, -0.0675, -0.0032, -0.0361, -0.0656, -0.0657,  0.0032,\n         0.0032, -0.0440,  0.0256, -0.0303, -0.0354, -0.0358,  0.0024, -0.0453,\n        -0.0552, -0.0327, -0.0392, -0.0280, -0.0111,  0.0088, -0.0248, -0.0074,\n        -0.0255, -0.0054, -0.0428, -0.0547, -0.0169, -0.0549, -0.0258, -0.0463,\n        -0.0083, -0.0193,  0.0035, -0.0184, -0.0473, -0.0207, -0.0548, -0.0125,\n        -0.0363,  0.0035,  0.0191,  0.0243, -0.0029, -0.0040, -0.0597, -0.0057,\n        -0.0333, -0.0139,  0.0003, -0.0361, -0.0110, -0.0643, -0.0122, -0.0188,\n        -0.0305, -0.0090,  0.0318, -0.0611, -0.0578, -0.0250, -0.0522,  0.0070,\n         0.0218, -0.0371, -0.0388,  0.0245,  0.0354,  0.0196, -0.0123, -0.0068,\n        -0.0185, -0.0066, -0.0518, -0.0083, -0.0069,  0.0106, -0.0019,  0.0221,\n        -0.0029, -0.0023, -0.0200, -0.0458, -0.0383, -0.0458,  0.0030,  0.0163,\n        -0.0226,  0.0020, -0.0261, -0.0114, -0.0144,  0.0042, -0.0357,  0.0088,\n        -0.0123, -0.0323, -0.0305, -0.0159, -0.0381, -0.0439, -0.0030, -0.0036,\n        -0.0406,  0.0060,  0.0070, -0.0295, -0.0255,  0.0144, -0.0215, -0.0238,\n        -0.0237,  0.0414, -0.0391,  0.0128, -0.0099, -0.0443,  0.0194,  0.0163,\n        -0.0120,  0.0119, -0.0136,  0.0060, -0.0270, -0.0079,  0.0252, -0.0013,\n         0.0030,  0.0057, -0.0136, -0.0185,  0.0010, -0.0565, -0.0159, -0.0507,\n         0.0102, -0.0105, -0.0176, -0.0180, -0.0294, -0.0282, -0.0135, -0.0337,\n         0.0297, -0.0176, -0.0235,  0.0369, -0.0179, -0.0477, -0.0295, -0.0290,\n        -0.0543, -0.0012, -0.0190, -0.0118, -0.0088, -0.0261, -0.0142, -0.0020,\n        -0.0026, -0.0661,  0.0031,  0.0143, -0.0300, -0.0245, -0.0191,  0.0113,\n         0.0150, -0.0226, -0.0150, -0.0374, -0.0252, -0.0388,  0.0323, -0.0001,\n        -0.0396, -0.0225,  0.0039,  0.0015,  0.0052, -0.0246,  0.0228, -0.0308,\n        -0.0350,  0.0139, -0.0446, -0.0022, -0.0014, -0.0558, -0.0638, -0.0098,\n        -0.0451, -0.0124, -0.0297,  0.0061, -0.0532, -0.0347, -0.0408,  0.0124,\n         0.0008,  0.0040,  0.0130,  0.0487, -0.0059,  0.0182,  0.0077,  0.0487,\n        -0.0158, -0.0035, -0.0413, -0.0499, -0.0552, -0.0495,  0.0120, -0.0028,\n        -0.0282, -0.0012, -0.0145, -0.0553,  0.0223, -0.0027,  0.0168,  0.0147,\n        -0.0105, -0.0157, -0.0122, -0.0334,  0.0026, -0.0399, -0.0458, -0.0001,\n        -0.0091, -0.0213, -0.0154, -0.0512, -0.0064,  0.0211, -0.0183,  0.0094,\n         0.0203, -0.0381, -0.0160, -0.0522,  0.0299, -0.0411, -0.0522, -0.0444,\n        -0.0383, -0.0182, -0.0138,  0.0420, -0.0621, -0.0177, -0.0127, -0.0545,\n        -0.0067, -0.0616,  0.0005, -0.0531,  0.0259, -0.0135, -0.0450, -0.0133,\n        -0.0156,  0.0177,  0.0272, -0.0251, -0.0189,  0.0240,  0.0020, -0.0513,\n        -0.0445,  0.0139, -0.0119, -0.0182,  0.0015, -0.0495, -0.0277, -0.0318,\n         0.0024,  0.0019, -0.0266,  0.0419,  0.0508, -0.0207,  0.0023, -0.0377,\n        -0.0275, -0.0198, -0.0205, -0.0114, -0.0148, -0.0191,  0.0419,  0.0019,\n         0.0229, -0.0418,  0.0140,  0.0071, -0.0331, -0.0195,  0.0081, -0.0483,\n        -0.0320, -0.0152,  0.0112, -0.0410, -0.0351, -0.0082, -0.0342, -0.0525,\n         0.0286, -0.0051, -0.0068, -0.0338,  0.0067, -0.0658, -0.0393,  0.0105,\n        -0.0041, -0.0332,  0.0181, -0.0323,  0.0375,  0.0290, -0.0422, -0.0025,\n        -0.0045,  0.0103,  0.0020, -0.0284, -0.0546, -0.0483,  0.0080, -0.0053,\n        -0.0407,  0.0255, -0.0007, -0.0238, -0.0042, -0.0126, -0.0469, -0.0196,\n        -0.0335, -0.0158, -0.0712, -0.0519, -0.0178, -0.0192,  0.0160,  0.0104,\n         0.0067, -0.0532, -0.0277, -0.0254, -0.0419, -0.0269, -0.0213, -0.0288,\n        -0.0263, -0.0408, -0.0261, -0.0048, -0.0048,  0.0179, -0.0327, -0.0641,\n         0.0072, -0.0071, -0.0030, -0.0323, -0.0057, -0.0069, -0.0195, -0.0294,\n        -0.0067, -0.0125,  0.0058, -0.0098, -0.0042, -0.0086, -0.0111,  0.0474,\n         0.0294, -0.0049, -0.0200, -0.0634, -0.0530,  0.0237, -0.0235, -0.0524,\n        -0.0652, -0.0092, -0.0530, -0.0265,  0.0114, -0.0284, -0.0620, -0.0415,\n         0.0345, -0.0140, -0.0472, -0.0274, -0.0189,  0.0034, -0.0457, -0.0259,\n         0.0203, -0.0264,  0.0410, -0.0175, -0.0060, -0.0413, -0.0658, -0.0590,\n        -0.0412, -0.0053, -0.0253, -0.0481,  0.0087, -0.0519, -0.0038,  0.0013,\n        -0.0028, -0.0060, -0.0210, -0.0192, -0.0309, -0.0042, -0.0374, -0.0217,\n        -0.0111, -0.0642, -0.0168, -0.0467,  0.0229, -0.0135, -0.0307, -0.0590,\n        -0.0263,  0.0125, -0.0297, -0.0127, -0.0027, -0.0415, -0.0577, -0.0386,\n        -0.0265, -0.0053, -0.0272, -0.0038, -0.0130, -0.0307,  0.0143, -0.0082,\n        -0.0340, -0.0436, -0.0649,  0.0218, -0.0002, -0.0283,  0.0193, -0.0031,\n        -0.0502, -0.0054, -0.0189, -0.0329, -0.0513, -0.0007,  0.0009,  0.0027,\n         0.0161, -0.0093, -0.0465, -0.0295, -0.0465, -0.0481,  0.0151,  0.0003])), ('hidden_layers.1.weight', tensor([[-0.0226, -0.0294, -0.0985,  ..., -0.0700,  0.0132,  0.0191],\n        [ 0.0078,  0.0016, -0.0629,  ..., -0.0489, -0.0087,  0.0154],\n        [ 0.0217, -0.0707, -0.0993,  ..., -0.0673,  0.0002,  0.0420],\n        ...,\n        [ 0.0221, -0.0271,  0.0236,  ..., -0.0602, -0.0080, -0.0371],\n        [ 0.0188, -0.0297,  0.0694,  ..., -0.0374, -0.0455,  0.0226],\n        [ 0.0364,  0.0114,  0.0563,  ..., -0.0213,  0.0643, -0.0546]])), ('hidden_layers.1.bias', tensor([ 0.0393,  0.0551, -0.0361,  0.0900,  0.0085,  0.0778,  0.0452,  0.0257,\n         0.0933,  0.0499, -0.0036,  0.0082, -0.0242,  0.0176,  0.0070,  0.0308,\n        -0.0505,  0.0024,  0.0227, -0.0180, -0.0045,  0.0419,  0.0784,  0.0147,\n         0.0206, -0.0042,  0.0042,  0.0305, -0.0520, -0.1057,  0.0358, -0.0364,\n         0.1337,  0.0306,  0.0422,  0.0687, -0.0372,  0.0988,  0.0141,  0.0396,\n        -0.0469,  0.0031,  0.0221,  0.0275, -0.0338,  0.0176, -0.0173,  0.0208,\n         0.0050,  0.0648, -0.0020,  0.0839, -0.0352,  0.0940,  0.0258, -0.0400,\n        -0.0061, -0.0118,  0.0530, -0.0215,  0.0174, -0.0389, -0.0189,  0.0199,\n         0.0004,  0.0081, -0.0184,  0.0242, -0.0103, -0.0049, -0.0078, -0.0393,\n         0.0499,  0.0351, -0.0438, -0.0212, -0.0389,  0.0183,  0.0508,  0.0019,\n         0.0528,  0.0243, -0.0440, -0.0612, -0.0223,  0.0342,  0.0520,  0.0186,\n        -0.0035, -0.0004,  0.0051,  0.0392,  0.0295,  0.0176,  0.0241, -0.0405,\n         0.0752, -0.0656,  0.0028,  0.0042,  0.0812, -0.0004,  0.0784, -0.0194,\n         0.0749,  0.0626,  0.0396, -0.0189,  0.0105, -0.0264, -0.0247, -0.0233,\n         0.0154, -0.0635,  0.1091, -0.0227,  0.0849,  0.0415,  0.0414,  0.0432,\n        -0.0032, -0.0607, -0.0651,  0.0008,  0.0609, -0.0067, -0.0243, -0.0444,\n        -0.0084, -0.0954,  0.0488,  0.0857,  0.0260, -0.0739,  0.0642,  0.0433,\n        -0.0250,  0.0613,  0.0864,  0.0028, -0.0487,  0.0063,  0.0795,  0.0045,\n         0.0136,  0.0522,  0.0015, -0.0199,  0.0129, -0.0198,  0.0582,  0.0014,\n         0.0799, -0.0731,  0.0375,  0.0948,  0.0297, -0.0470, -0.0204,  0.0429,\n        -0.0284, -0.0277,  0.0035,  0.0220, -0.0228,  0.0226,  0.0086,  0.0413,\n         0.0379,  0.0237, -0.0424,  0.0940,  0.0949, -0.0179,  0.0051,  0.0167,\n        -0.0044,  0.0206,  0.0622, -0.0791,  0.1179,  0.0524,  0.0393, -0.0222,\n         0.0675,  0.0105, -0.0024,  0.0670, -0.0125,  0.0455, -0.0008,  0.0107,\n         0.0043,  0.1240, -0.0551,  0.0096,  0.0139, -0.0294,  0.0128, -0.0168,\n        -0.0166, -0.0229,  0.0566,  0.0374,  0.0505,  0.0231,  0.0857, -0.0161,\n         0.0880,  0.0453,  0.0312,  0.0268, -0.0250,  0.0441,  0.0844,  0.0588,\n         0.1173,  0.0526,  0.1050,  0.0402,  0.0901, -0.0256, -0.0101,  0.0675,\n         0.0204,  0.0627, -0.0188,  0.0499, -0.0125,  0.0500,  0.0194, -0.0203,\n        -0.0371, -0.0227,  0.0283,  0.0094, -0.0162,  0.0220,  0.0606,  0.0642,\n         0.0322,  0.0435,  0.0165,  0.0419, -0.0461,  0.0300,  0.0203,  0.0334,\n         0.0299, -0.0061, -0.0472, -0.0508,  0.0471,  0.0043,  0.1104, -0.0579])), ('hidden_layers.2.weight', tensor([[-0.0191,  0.0106,  0.1063,  ...,  0.0606,  0.0182,  0.0594],\n        [-0.0284, -0.0300, -0.0377,  ..., -0.0814,  0.0615, -0.0142],\n        [-0.0385,  0.0738, -0.0564,  ..., -0.0268,  0.0296, -0.0104],\n        ...,\n        [-0.0555, -0.0462, -0.0329,  ..., -0.1138,  0.0331, -0.0286],\n        [-0.0251, -0.1027,  0.0521,  ...,  0.0174, -0.0720, -0.0229],\n        [-0.0604, -0.0343, -0.0246,  ..., -0.0163, -0.0493,  0.0670]])), ('hidden_layers.2.bias', tensor([ 0.0635,  0.0475, -0.0091,  0.0419,  0.0767,  0.0123,  0.0039,  0.0140,\n        -0.0347,  0.0956,  0.0229, -0.0517,  0.0736,  0.0561,  0.1161,  0.1114,\n         0.0261, -0.0266, -0.0474, -0.0484,  0.0158,  0.0275,  0.0335,  0.1425,\n         0.1620,  0.0406, -0.0149,  0.0338,  0.0568,  0.0464,  0.0919,  0.0458,\n         0.0265,  0.0197,  0.0496, -0.0352,  0.0275,  0.0123,  0.0640,  0.1272,\n        -0.0140,  0.0953,  0.0849,  0.1065,  0.0153,  0.0458,  0.2280, -0.0174,\n         0.0453,  0.0940,  0.0455,  0.0737,  0.0773, -0.0092,  0.0105, -0.0170,\n         0.0804,  0.0504,  0.0618,  0.1116,  0.0615,  0.0220,  0.0265,  0.1299,\n         0.1086,  0.0679,  0.0765,  0.0958,  0.0853,  0.0274,  0.0770,  0.0588,\n         0.0898,  0.1984,  0.0125,  0.0466,  0.0762,  0.0681,  0.0975,  0.0308,\n         0.2042,  0.0848,  0.1098, -0.0815,  0.1703,  0.0454,  0.1467, -0.0914,\n         0.0269,  0.0728,  0.1662, -0.0452,  0.0568,  0.0151,  0.0305,  0.0150,\n         0.0696, -0.0213,  0.0627,  0.1461,  0.1055,  0.0476,  0.1125,  0.1205,\n         0.0563,  0.0625,  0.0653,  0.1392,  0.1096,  0.0527,  0.0311, -0.0881,\n        -0.0331,  0.1014,  0.0365,  0.0478,  0.0629,  0.0290,  0.0649,  0.0044,\n         0.0374,  0.0700,  0.1625,  0.0778,  0.0939,  0.1539,  0.1414,  0.1504])), ('output.weight', tensor([[-0.0047,  0.0375, -0.0857,  ...,  0.0477, -0.0892,  0.0558],\n        [ 0.0224, -0.1125, -0.0499,  ..., -0.0252, -0.1349, -0.0224],\n        [ 0.0305,  0.0063, -0.0217,  ...,  0.0546,  0.0398,  0.0715],\n        ...,\n        [-0.0993, -0.1412, -0.0031,  ..., -0.0557,  0.0245, -0.1992],\n        [ 0.0187,  0.0642,  0.0118,  ..., -0.0681, -0.0182, -0.1109],\n        [-0.0895, -0.1428, -0.0796,  ..., -0.0540,  0.0259, -0.2205]])), ('output.bias', tensor([-0.1309, -0.2875,  0.1013,  0.0269, -0.0390,  0.0431,  0.0446, -0.0207,\n         0.0759, -0.0776]))])\n"
     ],
     "output_type": "stream"
    }
   ],
   "source": [
    "print(\"Our model: \\n\\n\", model, '\\n')\n",
    "print(\"The state dict keys: \\n\\n\", model.state_dict().keys())\n",
    "# print(model.state_dict())"
   ]
  },
  {
   "cell_type": "markdown",
   "metadata": {},
   "source": [
    "The simplest thing to do is simply save the state dict with `torch.save`. For example, we can save it to a file `'checkpoint.pth'`."
   ]
  },
  {
   "cell_type": "code",
   "execution_count": 11,
   "metadata": {
    "pycharm": {
     "is_executing": false
    }
   },
   "outputs": [],
   "source": [
    "torch.save(model.state_dict(), 'checkpoint.pth')"
   ]
  },
  {
   "cell_type": "markdown",
   "metadata": {},
   "source": [
    "Then we can load the state dict with `torch.load`."
   ]
  },
  {
   "cell_type": "code",
   "execution_count": 12,
   "metadata": {
    "pycharm": {
     "is_executing": false
    }
   },
   "outputs": [
    {
     "name": "stdout",
     "text": [
      "odict_keys(['hidden_layers.0.weight', 'hidden_layers.0.bias', 'hidden_layers.1.weight', 'hidden_layers.1.bias', 'hidden_layers.2.weight', 'hidden_layers.2.bias', 'output.weight', 'output.bias'])\n"
     ],
     "output_type": "stream"
    }
   ],
   "source": [
    "state_dict = torch.load('checkpoint.pth')\n",
    "print(state_dict.keys())"
   ]
  },
  {
   "cell_type": "markdown",
   "metadata": {},
   "source": [
    "And to load the state dict in to the network, you do `model.load_state_dict(state_dict)`."
   ]
  },
  {
   "cell_type": "code",
   "execution_count": 13,
   "metadata": {
    "pycharm": {
     "is_executing": false
    }
   },
   "outputs": [
    {
     "data": {
      "text/plain": "<All keys matched successfully>"
     },
     "metadata": {},
     "output_type": "execute_result",
     "execution_count": 13
    }
   ],
   "source": [
    "model.load_state_dict(state_dict)"
   ]
  },
  {
   "cell_type": "markdown",
   "metadata": {},
   "source": [
    "Seems pretty straightforward, but as usual it's a bit more complicated. Loading the state dict works only if the model architecture is exactly the same as the checkpoint architecture. If I create a model with a different architecture, this fails."
   ]
  },
  {
   "cell_type": "code",
   "execution_count": 14,
   "metadata": {
    "pycharm": {
     "is_executing": false
    }
   },
   "outputs": [
    {
     "traceback": [
      "\u001b[1;31m---------------------------------------------------------------------------\u001b[0m",
      "\u001b[1;31mRuntimeError\u001b[0m                              Traceback (most recent call last)",
      "\u001b[1;32m<ipython-input-14-34d17d163869>\u001b[0m in \u001b[0;36m<module>\u001b[1;34m\u001b[0m\n\u001b[0;32m      2\u001b[0m \u001b[0mmodel\u001b[0m \u001b[1;33m=\u001b[0m \u001b[0mfc_model\u001b[0m\u001b[1;33m.\u001b[0m\u001b[0mNetwork\u001b[0m\u001b[1;33m(\u001b[0m\u001b[1;36m784\u001b[0m\u001b[1;33m,\u001b[0m \u001b[1;36m10\u001b[0m\u001b[1;33m,\u001b[0m \u001b[1;33m[\u001b[0m\u001b[1;36m400\u001b[0m\u001b[1;33m,\u001b[0m \u001b[1;36m200\u001b[0m\u001b[1;33m,\u001b[0m \u001b[1;36m100\u001b[0m\u001b[1;33m]\u001b[0m\u001b[1;33m)\u001b[0m\u001b[1;33m\u001b[0m\u001b[1;33m\u001b[0m\u001b[0m\n\u001b[0;32m      3\u001b[0m \u001b[1;31m# This will throw an error because the tensor sizes are wrong!\u001b[0m\u001b[1;33m\u001b[0m\u001b[1;33m\u001b[0m\u001b[1;33m\u001b[0m\u001b[0m\n\u001b[1;32m----> 4\u001b[1;33m \u001b[0mmodel\u001b[0m\u001b[1;33m.\u001b[0m\u001b[0mload_state_dict\u001b[0m\u001b[1;33m(\u001b[0m\u001b[0mstate_dict\u001b[0m\u001b[1;33m)\u001b[0m\u001b[1;33m\u001b[0m\u001b[1;33m\u001b[0m\u001b[0m\n\u001b[0m\u001b[0;32m      5\u001b[0m \u001b[1;33m\u001b[0m\u001b[0m\n",
      "\u001b[1;32mc:\\users\\leo-h\\venv\\lib\\site-packages\\torch\\nn\\modules\\module.py\u001b[0m in \u001b[0;36mload_state_dict\u001b[1;34m(self, state_dict, strict)\u001b[0m\n\u001b[0;32m    828\u001b[0m         \u001b[1;32mif\u001b[0m \u001b[0mlen\u001b[0m\u001b[1;33m(\u001b[0m\u001b[0merror_msgs\u001b[0m\u001b[1;33m)\u001b[0m \u001b[1;33m>\u001b[0m \u001b[1;36m0\u001b[0m\u001b[1;33m:\u001b[0m\u001b[1;33m\u001b[0m\u001b[1;33m\u001b[0m\u001b[0m\n\u001b[0;32m    829\u001b[0m             raise RuntimeError('Error(s) in loading state_dict for {}:\\n\\t{}'.format(\n\u001b[1;32m--> 830\u001b[1;33m                                self.__class__.__name__, \"\\n\\t\".join(error_msgs)))\n\u001b[0m\u001b[0;32m    831\u001b[0m         \u001b[1;32mreturn\u001b[0m \u001b[0m_IncompatibleKeys\u001b[0m\u001b[1;33m(\u001b[0m\u001b[0mmissing_keys\u001b[0m\u001b[1;33m,\u001b[0m \u001b[0munexpected_keys\u001b[0m\u001b[1;33m)\u001b[0m\u001b[1;33m\u001b[0m\u001b[1;33m\u001b[0m\u001b[0m\n\u001b[0;32m    832\u001b[0m \u001b[1;33m\u001b[0m\u001b[0m\n",
      "\u001b[1;31mRuntimeError\u001b[0m: Error(s) in loading state_dict for Network:\n\tsize mismatch for hidden_layers.0.weight: copying a param with shape torch.Size([512, 784]) from checkpoint, the shape in current model is torch.Size([400, 784]).\n\tsize mismatch for hidden_layers.0.bias: copying a param with shape torch.Size([512]) from checkpoint, the shape in current model is torch.Size([400]).\n\tsize mismatch for hidden_layers.1.weight: copying a param with shape torch.Size([256, 512]) from checkpoint, the shape in current model is torch.Size([200, 400]).\n\tsize mismatch for hidden_layers.1.bias: copying a param with shape torch.Size([256]) from checkpoint, the shape in current model is torch.Size([200]).\n\tsize mismatch for hidden_layers.2.weight: copying a param with shape torch.Size([128, 256]) from checkpoint, the shape in current model is torch.Size([100, 200]).\n\tsize mismatch for hidden_layers.2.bias: copying a param with shape torch.Size([128]) from checkpoint, the shape in current model is torch.Size([100]).\n\tsize mismatch for output.weight: copying a param with shape torch.Size([10, 128]) from checkpoint, the shape in current model is torch.Size([10, 100])."
     ],
     "ename": "RuntimeError",
     "evalue": "Error(s) in loading state_dict for Network:\n\tsize mismatch for hidden_layers.0.weight: copying a param with shape torch.Size([512, 784]) from checkpoint, the shape in current model is torch.Size([400, 784]).\n\tsize mismatch for hidden_layers.0.bias: copying a param with shape torch.Size([512]) from checkpoint, the shape in current model is torch.Size([400]).\n\tsize mismatch for hidden_layers.1.weight: copying a param with shape torch.Size([256, 512]) from checkpoint, the shape in current model is torch.Size([200, 400]).\n\tsize mismatch for hidden_layers.1.bias: copying a param with shape torch.Size([256]) from checkpoint, the shape in current model is torch.Size([200]).\n\tsize mismatch for hidden_layers.2.weight: copying a param with shape torch.Size([128, 256]) from checkpoint, the shape in current model is torch.Size([100, 200]).\n\tsize mismatch for hidden_layers.2.bias: copying a param with shape torch.Size([128]) from checkpoint, the shape in current model is torch.Size([100]).\n\tsize mismatch for output.weight: copying a param with shape torch.Size([10, 128]) from checkpoint, the shape in current model is torch.Size([10, 100]).",
     "output_type": "error"
    }
   ],
   "source": [
    "# Try this\n",
    "model = fc_model.Network(784, 10, [400, 200, 100])\n",
    "# This will throw an error because the tensor sizes are wrong!\n",
    "model.load_state_dict(state_dict)"
   ]
  },
  {
   "cell_type": "markdown",
   "metadata": {},
   "source": [
    "This means we need to rebuild the model exactly as it was when trained. Information about the model architecture needs to be saved in the checkpoint, along with the state dict. To do this, you build a dictionary with all the information you need to compeletely rebuild the model."
   ]
  },
  {
   "cell_type": "code",
   "execution_count": 15,
   "metadata": {
    "pycharm": {
     "is_executing": false
    }
   },
   "outputs": [],
   "source": [
    "checkpoint = {'input_size': 784,\n",
    "              'output_size': 10,\n",
    "              'hidden_layers': [each.out_features for each in model.hidden_layers],\n",
    "              'state_dict': model.state_dict()}\n",
    "\n",
    "torch.save(checkpoint, 'checkpoint.pth')"
   ]
  },
  {
   "cell_type": "markdown",
   "metadata": {},
   "source": [
    "Now the checkpoint has all the necessary information to rebuild the trained model. You can easily make that a function if you want. Similarly, we can write a function to load checkpoints. "
   ]
  },
  {
   "cell_type": "code",
   "execution_count": 16,
   "metadata": {
    "pycharm": {
     "is_executing": false
    }
   },
   "outputs": [],
   "source": [
    "def load_checkpoint(filepath):\n",
    "    checkpoint = torch.load(filepath)\n",
    "    model = fc_model.Network(checkpoint['input_size'],\n",
    "                             checkpoint['output_size'],\n",
    "                             checkpoint['hidden_layers'])\n",
    "    model.load_state_dict(checkpoint['state_dict'])\n",
    "    \n",
    "    return model"
   ]
  },
  {
   "cell_type": "code",
   "execution_count": 17,
   "metadata": {
    "pycharm": {
     "is_executing": false
    }
   },
   "outputs": [
    {
     "name": "stdout",
     "text": [
      "Network(\n  (hidden_layers): ModuleList(\n    (0): Linear(in_features=784, out_features=400, bias=True)\n    (1): Linear(in_features=400, out_features=200, bias=True)\n    (2): Linear(in_features=200, out_features=100, bias=True)\n  )\n  (output): Linear(in_features=100, out_features=10, bias=True)\n  (dropout): Dropout(p=0.5, inplace=False)\n)\n"
     ],
     "output_type": "stream"
    }
   ],
   "source": [
    "model = load_checkpoint('checkpoint.pth')\n",
    "print(model)"
   ]
  },
  {
   "cell_type": "code",
   "execution_count": null,
   "outputs": [],
   "source": [
    "\n"
   ],
   "metadata": {
    "collapsed": false,
    "pycharm": {
     "name": "#%%\n"
    }
   }
  }
 ],
 "metadata": {
  "kernelspec": {
   "display_name": "Python 3",
   "language": "python",
   "name": "python3"
  },
  "language_info": {
   "codemirror_mode": {
    "name": "ipython",
    "version": 3
   },
   "file_extension": ".py",
   "mimetype": "text/x-python",
   "name": "python",
   "nbconvert_exporter": "python",
   "pygments_lexer": "ipython3",
   "version": "3.6.4"
  },
  "pycharm": {
   "stem_cell": {
    "cell_type": "raw",
    "source": [],
    "metadata": {
     "collapsed": false
    }
   }
  }
 },
 "nbformat": 4,
 "nbformat_minor": 2
}